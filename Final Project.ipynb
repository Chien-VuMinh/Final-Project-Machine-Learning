{
 "cells": [
  {
   "cell_type": "markdown",
   "metadata": {},
   "source": [
    "# MACHINE LEARNING FINAL PROJECT\n",
    "\n",
    "\n",
    "Students Info:\n",
    "- Vũ Minh Chiến - 22127045\n",
    "- Cao Nguyễn Huy Hoàng - 22127120"
   ]
  },
  {
   "cell_type": "markdown",
   "metadata": {},
   "source": [
    "### **IMPORT LIBRARIES**"
   ]
  },
  {
   "cell_type": "code",
   "execution_count": 45,
   "metadata": {},
   "outputs": [],
   "source": [
    "import numpy as np\n",
    "import os\n",
    "import pickle\n",
    "import gzip\n",
    "import matplotlib.pyplot as plt\n",
    "from sklearn import (tree)\n",
    "import torch\n",
    "import tensorflow as tf\n",
    "import seaborn as sns"
   ]
  },
  {
   "cell_type": "markdown",
   "metadata": {},
   "source": [
    "### **Data Preparation**\n",
    "\n",
    "#### 1. Data collection\n",
    "\n",
    "This dataset is collect from [cs.toronto.edu](https://www.cs.toronto.edu/~kriz/cifar.html). Alll files have been downloaded, unpacked and stored in `cifar-10-python` folder. The data will be stored in 5 varialbes with corressponding size:\n",
    "- train_X (50000x3072)\n",
    "- train_Y (50000x1)\n",
    "- test_X (10000x3072)\n",
    "- test_Y (10000x1)\n",
    "\n",
    "The code below is used to read the data from the files as long as remove the redundant categorical features as `batch-label` and `file-name`."
   ]
  },
  {
   "cell_type": "code",
   "execution_count": 46,
   "metadata": {},
   "outputs": [],
   "source": [
    "# function to read the pickle file\n",
    "def unpickle(file):\n",
    "    with open(file, 'rb') as fo:\n",
    "        dict = pickle.load(fo, encoding='latin1')\n",
    "    return dict\n",
    "\n",
    "\n",
    "# define variables\n",
    "test_X = test_Y = train_X = train_Y = None\n",
    "\n",
    "\n",
    "# read batch file 1-5 to train_X and train_Y\n",
    "for i in range(1, 6):\n",
    "    # file name\n",
    "    file = 'cifar-10-python/data_batch_' + str(i)\n",
    "\n",
    "    # read data to a dictionary\n",
    "    dict = unpickle(file)\n",
    "\n",
    "    # convert data to numpy array and store to test_X and test_Y\n",
    "    if train_X is None:\n",
    "        train_X = np.array(dict['data'])\n",
    "        train_Y = np.array(dict['labels']).reshape(-1, 1)\n",
    "    else:\n",
    "        train_X = np.concatenate((train_X, np.array(dict['data'])), axis=0)\n",
    "        train_Y = np.concatenate((train_Y, np.array(dict['labels']).reshape(-1, 1)), axis=0)\n",
    "\n",
    "\n",
    "# read test_batch to test_X and test_Y\n",
    "dict = unpickle('cifar-10-python/test_batch')\n",
    "test_X = np.array(dict['data'])\n",
    "test_Y = np.array(dict['labels']).reshape(-1, 1)"
   ]
  },
  {
   "cell_type": "markdown",
   "metadata": {},
   "source": [
    "#### 2. Data preprocessing\n",
    "\n",
    "Find any missing value in the dataset"
   ]
  },
  {
   "cell_type": "code",
   "execution_count": 47,
   "metadata": {},
   "outputs": [
    {
     "name": "stdout",
     "output_type": "stream",
     "text": [
      "False False False False\n"
     ]
    }
   ],
   "source": [
    "print(np.isnan(train_X).any(), np.isnan(train_Y).any(), np.isnan(test_X).any(), np.isnan(test_Y).any())"
   ]
  },
  {
   "cell_type": "markdown",
   "metadata": {},
   "source": [
    "So there arn't any missing values in this dataset\n",
    "\n",
    "Next is the normalize step, this is a image dataset so the values must be between [0, 255], but first lets check if this is right."
   ]
  },
  {
   "cell_type": "code",
   "execution_count": 48,
   "metadata": {},
   "outputs": [
    {
     "name": "stdout",
     "output_type": "stream",
     "text": [
      "0 255\n"
     ]
    }
   ],
   "source": [
    "print(train_X.min(), train_X.max())"
   ]
  },
  {
   "cell_type": "markdown",
   "metadata": {},
   "source": [
    "We have determined the values range is between [0, 255], now we can normalize it to range [0, 1]. This is a crucial step which can help promoting faster convergence during gradient-based training."
   ]
  },
  {
   "cell_type": "code",
   "execution_count": 49,
   "metadata": {},
   "outputs": [],
   "source": [
    "# this is shortern form of MinMax scaling\n",
    "train_X = train_X / 255\n",
    "test_X = test_X / 255"
   ]
  },
  {
   "cell_type": "markdown",
   "metadata": {},
   "source": [
    "Applying one-hot for the lable of the image. First we need to find the range of the lable."
   ]
  },
  {
   "cell_type": "code",
   "execution_count": 50,
   "metadata": {},
   "outputs": [
    {
     "name": "stdout",
     "output_type": "stream",
     "text": [
      "0 9\n"
     ]
    }
   ],
   "source": [
    "print(train_Y.min(), train_Y.max())"
   ]
  },
  {
   "cell_type": "markdown",
   "metadata": {},
   "source": [
    "Use a identity matrix to generate one-hot matrix"
   ]
  },
  {
   "cell_type": "code",
   "execution_count": 63,
   "metadata": {},
   "outputs": [],
   "source": [
    "# create identity matrix with len = 10 (0-9)\n",
    "eye_matrix = np.eye(10)\n",
    "\n",
    "# generate one-hot\n",
    "train_Y_one_hot = eye_matrix[train_Y.reshape(-1)]\n",
    "test_Y_one_hot = eye_matrix[test_Y.reshape(-1)]"
   ]
  }
 ],
 "metadata": {
  "kernelspec": {
   "display_name": "Python 3",
   "language": "python",
   "name": "python3"
  },
  "language_info": {
   "codemirror_mode": {
    "name": "ipython",
    "version": 3
   },
   "file_extension": ".py",
   "mimetype": "text/x-python",
   "name": "python",
   "nbconvert_exporter": "python",
   "pygments_lexer": "ipython3",
   "version": "3.12.8"
  }
 },
 "nbformat": 4,
 "nbformat_minor": 2
}
