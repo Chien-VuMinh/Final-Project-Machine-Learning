{
 "cells": [
  {
   "cell_type": "markdown",
   "metadata": {},
   "source": [
    "# MACHINE LEARNING FINAL PROJECT\n",
    "\n",
    "\n",
    "Students Info:\n",
    "- Vũ Minh Chiến - 22127045\n",
    "- Cao Nguyễn Huy Hoàng - 22127120"
   ]
  },
  {
   "cell_type": "markdown",
   "metadata": {},
   "source": [
    "### IMPORT LIBRARIES"
   ]
  },
  {
   "cell_type": "code",
   "execution_count": 44,
   "metadata": {},
   "outputs": [],
   "source": [
    "import numpy as np\n",
    "import os\n",
    "import pickle\n",
    "import gzip\n",
    "import matplotlib.pyplot as plt"
   ]
  },
  {
   "cell_type": "markdown",
   "metadata": {},
   "source": [
    "### Data Preparation\n",
    "\n",
    "This dataset is collect from [cs.toronto.edu](https://www.cs.toronto.edu/~kriz/cifar.html). Alll files have been downloaded, unpacked and stored in `cifar-10-python` folder. The data will be stored in 5 varialbes with corressponding size:\n",
    "- train_X (50000x3072)\n",
    "- train_Y (50000x1)\n",
    "- test_X (10000x3072)\n",
    "- test_Y (10000x1)\n",
    "\n",
    "The code below is used to read the data from the files as long as remove the redundant categorical features as `batch-label` and `file-name`."
   ]
  },
  {
   "cell_type": "code",
   "execution_count": null,
   "metadata": {},
   "outputs": [
    {
     "name": "stdout",
     "output_type": "stream",
     "text": [
      "dict_keys(['batch_label', 'labels', 'data', 'filenames'])\n"
     ]
    }
   ],
   "source": [
    "# function to read the pickle file\n",
    "def unpickle(file):\n",
    "    with open(file, 'rb') as fo:\n",
    "        dict = pickle.load(fo, encoding='latin1')\n",
    "    return dict\n",
    "\n",
    "\n",
    "# define variables\n",
    "test_X = test_Y = train_X = train_Y = None\n",
    "\n",
    "\n",
    "# read batch file 1-5 to train_X and train_Y\n",
    "for i in range(1, 6):\n",
    "    # file name\n",
    "    file = 'cifar-10-python/data_batch_' + str(i)\n",
    "\n",
    "    # read data to a dictionary\n",
    "    dict = unpickle(file)\n",
    "\n",
    "    # convert data to numpy array and store to test_X and test_Y\n",
    "    if train_X is None:\n",
    "        train_X = np.array(dict['data'])\n",
    "        train_Y = np.array(dict['labels']).reshape(-1, 1)\n",
    "    else:\n",
    "        train_X = np.concatenate((train_X, np.array(dict['data'])), axis=0)\n",
    "        train_Y = np.concatenate((train_Y, np.array(dict['labels']).reshape(-1, 1)), axis=0)\n",
    "\n",
    "\n",
    "# read test_batch to test_X and test_Y\n",
    "dict = unpickle('cifar-10-python/test_batch')\n",
    "test_X = np.array(dict['data'])\n",
    "test_Y = np.array(dict['labels']).reshape(-1, 1)"
   ]
  }
 ],
 "metadata": {
  "kernelspec": {
   "display_name": "Python 3",
   "language": "python",
   "name": "python3"
  },
  "language_info": {
   "codemirror_mode": {
    "name": "ipython",
    "version": 3
   },
   "file_extension": ".py",
   "mimetype": "text/x-python",
   "name": "python",
   "nbconvert_exporter": "python",
   "pygments_lexer": "ipython3",
   "version": "3.12.8"
  }
 },
 "nbformat": 4,
 "nbformat_minor": 2
}
