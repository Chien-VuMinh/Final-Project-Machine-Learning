{
 "cells": [
  {
   "cell_type": "markdown",
   "metadata": {},
   "source": [
    "# MACHINE LEARNING FINAL PROJECT\n",
    "\n",
    "\n",
    "Students Info:\n",
    "- Vũ Minh Chiến - 22127045\n",
    "- Cao Nguyễn Huy Hoàng - 22127120"
   ]
  },
  {
   "cell_type": "markdown",
   "metadata": {},
   "source": [
    "### **IMPORT LIBRARIES**"
   ]
  },
  {
   "cell_type": "code",
   "execution_count": 1,
   "metadata": {},
   "outputs": [],
   "source": [
    "import numpy as np\n",
    "import os\n",
    "import pickle\n",
    "import gzip\n",
    "import matplotlib.pyplot as plt\n",
    "from sklearn import (tree)\n",
    "import torch\n",
    "import tensorflow as tf\n",
    "\n",
    "import seaborn as sns\n",
    "\n",
    "#2.2\n",
    "#sklearn\n",
    "from sklearn.neural_network import MLPClassifier\n",
    "\n",
    "#pytorch\n",
    "import torch.nn as nn\n",
    "import torch.optim as optim"
   ]
  },
  {
   "cell_type": "markdown",
   "metadata": {},
   "source": [
    "### **Data Preparation**\n",
    "\n",
    "#### 1. Data collection\n",
    "\n",
    "This dataset is collect from [cs.toronto.edu](https://www.cs.toronto.edu/~kriz/cifar.html). All files have been downloaded, unpacked and stored in `cifar-10-python` folder. The data will be stored in 5 variables with corresponding size:\n",
    "- train_X (50000x3072)\n",
    "- train_Y (50000x1)\n",
    "- test_X (10000x3072)\n",
    "- test_Y (10000x1)\n",
    "\n",
    "The code below is used to read the data from the files as well as remove the redundant categorical features such as `batch-label` and `file-name`."
   ]
  },
  {
   "cell_type": "code",
   "execution_count": 2,
   "metadata": {},
   "outputs": [],
   "source": [
    "# function to read the pickle file\n",
    "def unpickle(file):\n",
    "    with open(file, 'rb') as fo:\n",
    "        dict = pickle.load(fo, encoding='latin1')\n",
    "    return dict \n",
    "\n",
    "\n",
    "# define variables\n",
    "test_X = test_Y = train_X = train_Y = None\n",
    "\n",
    "\n",
    "# read batch file 1-5 to train_X and train_Y\n",
    "for i in range(1, 6):\n",
    "    # file name\n",
    "    file = 'cifar-10-python/data_batch_' + str(i)\n",
    "\n",
    "    # read data to a dictionary\n",
    "    dict = unpickle(file)\n",
    "\n",
    "    # convert data to numpy array and store to test_X and test_Y\n",
    "    if train_X is None:\n",
    "        train_X = np.array(dict['data'])\n",
    "        train_Y = np.array(dict['labels']).reshape(-1, 1)\n",
    "    else:\n",
    "        train_X = np.concatenate((train_X, np.array(dict['data'])), axis=0)\n",
    "        train_Y = np.concatenate((train_Y, np.array(dict['labels']).reshape(-1, 1)), axis=0)\n",
    "\n",
    "\n",
    "# read test_batch to test_X and test_Y\n",
    "dict = unpickle('cifar-10-python/test_batch')\n",
    "test_X = np.array(dict['data'])\n",
    "test_Y = np.array(dict['labels']).reshape(-1, 1)"
   ]
  },
  {
   "cell_type": "markdown",
   "metadata": {},
   "source": [
    "#### 2. Data preprocessing\n",
    "\n",
    "Find any missing value in the dataset"
   ]
  },
  {
   "cell_type": "code",
   "execution_count": 3,
   "metadata": {},
   "outputs": [
    {
     "name": "stdout",
     "output_type": "stream",
     "text": [
      "False False False False\n"
     ]
    }
   ],
   "source": [
    "print(np.isnan(train_X).any(), np.isnan(train_Y).any(), np.isnan(test_X).any(), np.isnan(test_Y).any())"
   ]
  },
  {
   "cell_type": "markdown",
   "metadata": {},
   "source": [
    "So there aren't any missing values in this dataset.\n",
    "\n",
    "Next is the normalization step, this is a image dataset so the values must be between [0, 255], but first let's check if this is right."
   ]
  },
  {
   "cell_type": "code",
   "execution_count": 4,
   "metadata": {},
   "outputs": [
    {
     "name": "stdout",
     "output_type": "stream",
     "text": [
      "0 255\n"
     ]
    }
   ],
   "source": [
    "print(train_X.min(), train_X.max())"
   ]
  },
  {
   "cell_type": "markdown",
   "metadata": {},
   "source": [
    "We have determined the values range is between [0, 255], now we can normalize it to range [0, 1]. This is a crucial step which can help promoting faster convergence during gradient-based training."
   ]
  },
  {
   "cell_type": "code",
   "execution_count": 5,
   "metadata": {},
   "outputs": [],
   "source": [
    "# this is shortern form of MinMax scaling\n",
    "train_X = train_X / 255\n",
    "test_X = test_X / 255"
   ]
  },
  {
   "cell_type": "markdown",
   "metadata": {},
   "source": [
    "Applying one-hot for the label of the image. First we need to find the range of the label."
   ]
  },
  {
   "cell_type": "code",
   "execution_count": 6,
   "metadata": {},
   "outputs": [
    {
     "name": "stdout",
     "output_type": "stream",
     "text": [
      "0 9\n"
     ]
    }
   ],
   "source": [
    "print(train_Y.min(), train_Y.max())"
   ]
  },
  {
   "cell_type": "markdown",
   "metadata": {},
   "source": [
    "Use a identity matrix to generate one-hot matrix"
   ]
  },
  {
   "cell_type": "code",
   "execution_count": 7,
   "metadata": {},
   "outputs": [],
   "source": [
    "# create identity matrix with len = 10 (0-9)\n",
    "eye_matrix = np.eye(10)\n",
    "\n",
    "# generate one-hot\n",
    "train_Y_one_hot = eye_matrix[train_Y.reshape(-1)]\n",
    "test_Y_one_hot = eye_matrix[test_Y.reshape(-1)]"
   ]
  },
  {
   "cell_type": "markdown",
   "metadata": {},
   "source": [
    "### Define MLP Architecture:\n",
    "1. Number of layers: 2 hidden layers (256 and 128 neurons for the first and second layer, respectively).\n",
    "2. Number of neurons per layer: 256 and 128 for first and second layer, respectively.\n",
    "3. Activation function: ReLU for hidden layer and SGD for outer layer.\n",
    "4. Batch Normalization: 64\n",
    "\n",
    "### Loss function and Optimizer:\n",
    "1. Loss function: Cross-entropy loss\n",
    "2. Optimizer: Stochastic Gradient Descent (SGD)"
   ]
  },
  {
   "cell_type": "code",
   "execution_count": 8,
   "metadata": {},
   "outputs": [],
   "source": [
    "#Ref: https://scikit-learn.org/stable/modules/generated/sklearn.neural_network.MLPClassifier.html\n",
    "\n",
    "model_sklearn = MLPClassifier(\n",
    "    hidden_layer_sizes=(256, 128),  # Two hidden layers: 256 and 128 neurons\n",
    "    activation='relu',             # Activation function for hidden layers\n",
    "    solver='sgd',                  # Optimizer\n",
    "    learning_rate_init=0.01,       # Initial learning rate\n",
    "    max_iter=20,                   # Number of epochs\n",
    "    batch_size=64,                 # Mini-batch size\n",
    "    verbose=True,                  # Training progress\n",
    ")\n",
    "\n",
    "#MLPClassifier optimizes the cross-entropy loss function by using LBFGS or SGD."
   ]
  },
  {
   "cell_type": "code",
   "execution_count": 9,
   "metadata": {},
   "outputs": [],
   "source": [
    "#Ref neural network: https://pytorch.org/docs/stable/nn.html\n",
    "#Ref optimization: https://pytorch.org/docs/stable/optim.html\n",
    "#Ref Data loader: https://pytorch.org/docs/stable/data.html\n",
    "class MLPClassifier_pytorch(nn.Module):\n",
    "    def __init__(self, input_size, num_classes):\n",
    "        super(MLPClassifier_pytorch, self).__init__()\n",
    "        self.model = nn.Sequential(\n",
    "            nn.Linear(input_size, 256), # First hidden layer with 256 neurons and input size\n",
    "            nn.ReLU(),                  # Activation function for first layer\n",
    "            nn.BatchNorm1d(256),        # Batch normalization\n",
    "            nn.Linear(256, 128),        # Second hidden layer with 128 neurons\n",
    "            nn.ReLU(),                  # Activation function for the second layer\n",
    "            nn.BatchNorm1d(128),        # Batch normalization for the second layer\n",
    "            nn.Linear(128, num_classes),# Output layer\n",
    "            nn.Softmax(dim=1)           # Softmax for multi-class classification probabilities\n",
    "        )\n",
    "    \n",
    "    def forward(self, x):\n",
    "        return self.model(x) # Forward pass\n",
    "\n",
    "model_pytorch = MLPClassifier_pytorch(input_size=3072, num_classes=10)\n",
    "\n",
    "loss_pytorch = nn.CrossEntropyLoss() #Loss\n",
    "optimizer_pytorch = optim.SGD(model_pytorch.parameters(), lr=0.01) #Optimizer\n"
   ]
  },
  {
   "cell_type": "code",
   "execution_count": 10,
   "metadata": {},
   "outputs": [
    {
     "name": "stderr",
     "output_type": "stream",
     "text": [
      "c:\\Users\\ADMIN\\AppData\\Local\\Programs\\Python\\Python311\\Lib\\site-packages\\keras\\src\\layers\\core\\dense.py:87: UserWarning: Do not pass an `input_shape`/`input_dim` argument to a layer. When using Sequential models, prefer using an `Input(shape)` object as the first layer in the model instead.\n",
      "  super().__init__(activity_regularizer=activity_regularizer, **kwargs)\n"
     ]
    }
   ],
   "source": [
    "#Ref model: https://www.tensorflow.org/api_docs/python/tf/keras/Sequential\n",
    "#Ref layers: https://www.tensorflow.org/api_docs/python/tf/keras/layers\n",
    "#Ref optimizer: https://www.tensorflow.org/api_docs/python/tf/keras/optimizers\n",
    "\n",
    "BatchNormalization = tf.keras.layers.BatchNormalization\n",
    "Dense = tf.keras.layers.Dense\n",
    "Softmax = tf.keras.layers.Softmax\n",
    "ReLU = tf.keras.layers.ReLU\n",
    "\n",
    "SGD = tf.keras.optimizers.SGD\n",
    "\n",
    "model_tensor = tf.keras.Sequential([\n",
    "    Dense(256, input_shape=(3072,)),  # First hidden layer with 256 neurons and input size\n",
    "    ReLU(),                           # Activation function for the first layer \n",
    "    BatchNormalization(),             # Batch normalization\n",
    "    Dense(128),                       # Second hidden layer with 128 neurons\n",
    "    ReLU(),                           # Activation function for the second layer \n",
    "    BatchNormalization(),             # Batch normalization\n",
    "    Dense(10),                        # Output layer\n",
    "    Softmax()                         # Softmax for multi-class classification probabilities\n",
    "])\n",
    "\n",
    "model_tensor.compile(optimizer=SGD(learning_rate=0.01), #Optimizer \n",
    "              loss='categorical_crossentropy',          #Loss\n",
    "              metrics=['accuracy'])                     #Accuracy for evaluation"
   ]
  }
 ],
 "metadata": {
  "kernelspec": {
   "display_name": "Python 3",
   "language": "python",
   "name": "python3"
  },
  "language_info": {
   "codemirror_mode": {
    "name": "ipython",
    "version": 3
   },
   "file_extension": ".py",
   "mimetype": "text/x-python",
   "name": "python",
   "nbconvert_exporter": "python",
   "pygments_lexer": "ipython3",
   "version": "3.11.4"
  }
 },
 "nbformat": 4,
 "nbformat_minor": 2
}
